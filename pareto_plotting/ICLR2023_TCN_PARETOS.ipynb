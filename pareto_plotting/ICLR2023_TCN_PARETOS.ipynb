{
 "cells": [
  {
   "cell_type": "code",
   "execution_count": 1,
   "id": "751f8def",
   "metadata": {},
   "outputs": [],
   "source": [
    "import csv\n",
    "import matplotlib\n",
    "matplotlib.rcParams['font.family'] = \"Times New Roman\"\n",
    "\n",
    "def_font_size = 16\n",
    "\n",
    "matplotlib.rcParams['font.size'] = def_font_size=16"
   ]
  },
  {
   "cell_type": "code",
   "execution_count": 2,
   "id": "553a586a",
   "metadata": {},
   "outputs": [],
   "source": [
    "from weight_shared_analyzer import WeightSharedRun, plot_pareto_curves_ws, get_pareto_curves_df\n",
    "import matplotlib.pyplot as plt\n",
    "import pandas as pd\n",
    "import numpy as np"
   ]
  },
  {
   "cell_type": "code",
   "execution_count": 3,
   "id": "77732743",
   "metadata": {},
   "outputs": [],
   "source": [
    "smallest_subnet = {\"d\":0, \"e\": 0.1}\n",
    "middle_1_subnet = {\"d\":1, \"e\": 0.2}\n",
    "middle_2_subnet = {\"d\":1, \"e\": 0.5}\n",
    "largest_subnet = {\"d\":2, \"e\": 1.0}\n",
    "pareto_front_repr = [smallest_subnet, middle_1_subnet, middle_2_subnet, largest_subnet]\n",
    "pareto_mapping = {f\"{smallest_subnet}\": 0.017952,  f\"{middle_1_subnet}\": 0.042576, f\"{middle_2_subnet}\": 0.09744, f\"{largest_subnet}\" : 0.258}\n",
    "subnet_ordering = [0.017952, 0.042576, 0.09744, 0.258]"
   ]
  },
  {
   "cell_type": "code",
   "execution_count": 4,
   "id": "3162a736",
   "metadata": {},
   "outputs": [],
   "source": [
    "def max_per_seed(seeds, uptil_r, mode=\"avg\", fedavg=True):\n",
    "    best_accs = []\n",
    "    for s in seeds:\n",
    "        cur_s = WeightSharedRun(s, pareto_front_repr, pareto_mapping)\n",
    "        if fedavg:\n",
    "            cur_best_acc, _ = get_pareto_curves_df([cur_s], \"Test/{model}/PPL\", larger_is_better=False, uptil_round=uptil_r, axis=0)\n",
    "            best_accs.append(cur_best_acc[0])\n",
    "            #print(\"curbestacc: \", cur_best_acc, type(cur_best_acc), cur_best_acc[0])\n",
    "        else:\n",
    "            cur_best_acc, _ = get_pareto_curves_df([cur_s], \"Test/{model}/PPL\", larger_is_better=False, uptil_round=uptil_r, rename=True, mode=mode)\n",
    "            cur_list = []\n",
    "            for order in subnet_ordering:\n",
    "                cur_list.append(cur_best_acc.at[order, cur_best_acc.columns[0]])\n",
    "                #print(\"curbestacc: \", order, cur_best_acc.at[order, cur_best_acc.columns[0]], type(cur_best_acc.at[order, cur_best_acc.columns[0]]))\n",
    "            best_accs.append(cur_list)\n",
    "    return best_accs"
   ]
  },
  {
   "cell_type": "code",
   "execution_count": 5,
   "id": "1bf07263",
   "metadata": {},
   "outputs": [],
   "source": [
    "def fedavgCurves_dep(smallest, middle1, middle2, largest):\n",
    "    fedavg_smallest = WeightSharedRun(smallest, pareto_front_repr, pareto_mapping)\n",
    "    fedavg_middle_1 = WeightSharedRun(middle1, pareto_front_repr, pareto_mapping)\n",
    "    fedavg_middle_2 = WeightSharedRun(middle2, pareto_front_repr, pareto_mapping)\n",
    "    fedavg_largest = WeightSharedRun(largest, pareto_front_repr, pareto_mapping)\n",
    "\n",
    "    print(fedavg_smallest.name)\n",
    "    print(fedavg_smallest.df[\"round\"].max())\n",
    "\n",
    "    print(fedavg_middle_1.name)\n",
    "    print(fedavg_middle_1.df[\"round\"].max())\n",
    "\n",
    "    print(fedavg_middle_2.name)\n",
    "    print(fedavg_middle_2.df[\"round\"].max())\n",
    "\n",
    "    print(fedavg_largest.name)\n",
    "    print(fedavg_largest.df[\"round\"].max())\n",
    "    return [fedavg_smallest, fedavg_middle_1, fedavg_middle_2, fedavg_largest]\n",
    "\n",
    "def fedavgCurves(smallest, middle1, middle2, largest, uptil_r=1500):\n",
    "    smallest = max_per_seed(smallest, uptil_r)\n",
    "    middle1 = max_per_seed(middle1, uptil_r)\n",
    "    middle2 = max_per_seed(middle2, uptil_r)\n",
    "    largest = max_per_seed(largest, uptil_r)\n",
    "    return [smallest, middle1, middle2, largest]"
   ]
  },
  {
   "cell_type": "code",
   "execution_count": 6,
   "id": "8cdd19c4",
   "metadata": {},
   "outputs": [],
   "source": [
    "def fed_paretos_internal(fedavg_runs, name=\"iFedAvg\"):\n",
    "    avg_acc = []\n",
    "    std_acc = []\n",
    "    for run in fedavg_runs:\n",
    "        avg_acc.append(np.mean(run))\n",
    "        std_acc.append(np.std(run))\n",
    "    fed_pareto = pd.Series(data=avg_acc, index=subnet_ordering, name=name)\n",
    "    error_fed_pareto = pd.Series(data=std_acc, index=subnet_ordering, name=name)\n",
    "    return fed_pareto, error_fed_pareto\n",
    "\n",
    "def ws_paretos_internal(seeds, rnum, name=\"SuperFed\", mode=\"avg\"):\n",
    "    print(f\"{name} pareto generation running...\")\n",
    "    ws = max_per_seed(seeds, rnum, mode=mode, fedavg=False)\n",
    "    avg_acc = np.mean(ws, axis=0)\n",
    "    std_acc = np.std(ws, axis=0)\n",
    "    ws_pareto = pd.Series(data=avg_acc, index=subnet_ordering, name=name)\n",
    "    error_ws_pareto = pd.Series(data=std_acc, index=subnet_ordering, name=name)\n",
    "    return ws_pareto, error_ws_pareto\n",
    "\n",
    "def fed_paretos(smallest, middle1, middle2, largest, uptil_r=1500, name=\"iFedAvg\"):\n",
    "    print(\"fed pareto generation running...\")\n",
    "    return fed_paretos_internal(fedavgCurves(smallest, middle1, middle2, largest, uptil_r), name)\n",
    "\n",
    "def ws_paretos(ws_runs, rnum, names, mode=\"avg\", modify_names=None):\n",
    "    ws_concat_list = []\n",
    "    error_ws_concat_list = []\n",
    "    for ws_run, name in zip(ws_runs, names):\n",
    "        cur_pareto, cur_error_pareto = ws_paretos_internal(ws_run, rnum, name=name, mode=mode)\n",
    "        if modify_names is not None and name in modify_names.keys():\n",
    "            with open(modify_names[name], newline='') as csvfile:\n",
    "                csvReader = csv.reader(csvfile, delimiter=' ')\n",
    "                for row in csvReader:\n",
    "                    cur_pareto[float(row[0])] = float(row[1])\n",
    "                    cur_error_pareto[float(row[0])] = float(row[2])\n",
    "            cur_pareto.sort_index(inplace=True)\n",
    "            cur_error_pareto.sort_index(inplace=True)\n",
    "        ws_concat_list.append(cur_pareto)\n",
    "        error_ws_concat_list.append(cur_error_pareto)\n",
    "    return pd.concat(ws_concat_list, axis=1), pd.concat(error_ws_concat_list, axis=1)"
   ]
  },
  {
   "cell_type": "code",
   "execution_count": 7,
   "id": "9593282c",
   "metadata": {},
   "outputs": [],
   "source": [
    "markersize_def = 8\n",
    "def adv_plot(fed_pareto, error_fed_pareto, ws_pareto, error_ws_pareto, ax_fill_list, ylim_1, ylim_2, \n",
    "             rnum, save_name, xlim_1=0.3, xlim_2=3.5, mode=\"avg\", exclude_fedavg=False, colors=None,\n",
    "            leg_font_size=def_font_size, ncol=1, leg_ordering=None, markers=None):\n",
    "    matplotlib.style.use(\"seaborn-whitegrid\")\n",
    "    if not exclude_fedavg:\n",
    "        final_df = pd.concat([fed_pareto, ws_pareto], axis=1)\n",
    "        final_error_df = pd.concat([error_fed_pareto, error_ws_pareto], axis=1)\n",
    "    else:\n",
    "        final_df = pd.concat([ws_pareto], axis=1)\n",
    "        final_error_df = pd.concat([error_ws_pareto], axis=1)\n",
    "    if colors is not None:\n",
    "        ax = None\n",
    "        for i, (col, ax_fill, color) in enumerate(zip(final_df.columns, ax_fill_list, colors)):\n",
    "            cur_col = final_df.loc[:, [col]]\n",
    "            cur_col.dropna(inplace=True)\n",
    "            ax = cur_col.plot.line(marker='o' if markers is None else markers[i], color=color, ax=ax, markersize=markersize_def)\n",
    "            cur_error_col = final_error_df.loc[:, [col]]\n",
    "            cur_error_col.dropna(inplace=True)\n",
    "            ax.fill_between(cur_col.index, cur_col[ax_fill[0]] - cur_error_col[ax_fill[0]], cur_col[ax_fill[0]] + cur_error_col[ax_fill[0]], alpha=ax_fill[1], color=color)\n",
    "    else:\n",
    "        ax = None\n",
    "        for i, (col, ax_fill) in enumerate(zip(final_df.columns, ax_fill_list)):\n",
    "            cur_col = final_df.loc[:, [col]]\n",
    "            cur_col.dropna(inplace=True)\n",
    "            ax = cur_col.plot.line(marker='o' if markers is None else markers[i], ax=ax, markersize=markersize_def)\n",
    "            cur_error_col = final_error_df.loc[:, [col]]\n",
    "            cur_error_col.dropna(inplace=True)\n",
    "            ax.fill_between(cur_col.index, cur_col[ax_fill[0]] - cur_error_col[ax_fill[0]], cur_col[ax_fill[0]] + cur_error_col[ax_fill[0]], alpha=ax_fill[1])\n",
    "    for spine in ax.spines.values():\n",
    "        spine.set_edgecolor('black')\n",
    "    plt.xlabel(\"GFLOPs\")\n",
    "    plt.xlim(xlim_1,xlim_2) # have uniform x-axis accross all plots\n",
    "    plt.ylim(ylim_1,ylim_2) # have uniform y-axis accross all plots\n",
    "    plt.ylabel(\"Test Accuracy\")\n",
    "    plt.tight_layout()\n",
    "    if leg_ordering is not None:\n",
    "        handles, labels = plt.gca().get_legend_handles_labels()\n",
    "        plt.legend([handles[idx] for idx in leg_ordering],[labels[idx] for idx in leg_ordering], loc=4, ncol=ncol, prop={'size':leg_font_size})\n",
    "    else:\n",
    "        plt.legend(loc=4, ncol=ncol, prop={'size':leg_font_size})\n",
    "    plt.savefig(save_name)\n",
    "    #return final_df, final_error_df"
   ]
  },
  {
   "cell_type": "code",
   "execution_count": 8,
   "id": "dc3de43d",
   "metadata": {},
   "outputs": [
    {
     "name": "stdout",
     "output_type": "stream",
     "text": [
      "20cli-FedAvg-smallest-subnet\n",
      "109.0\n",
      "20cli-FedAvg-small-subnet\n",
      "109.0\n",
      "20cli-FedAvg-middle-subnet\n",
      "109.0\n",
      "20cli-FedAvg-largest-subnet\n",
      "109.0\n"
     ]
    }
   ],
   "source": [
    "fedavg_runs = fedavgCurves_dep([\"flofa/ptb/6190qzi9\"],\n",
    "                          [\"flofa/ptb/3gccqo8f\"],\n",
    "                           [\"flofa/ptb/1vrh2jel\"],\n",
    "                           [\"flofa/ptb/kluzmcu1\"],\n",
    "                          )"
   ]
  },
  {
   "cell_type": "code",
   "execution_count": 9,
   "id": "a1aedc8e",
   "metadata": {},
   "outputs": [
    {
     "name": "stdout",
     "output_type": "stream",
     "text": [
      "MaxNet (SuperFed)\n",
      "200.0\n"
     ]
    }
   ],
   "source": [
    "maxnet = WeightSharedRun([\"flofa/ptb/2ykp8qbv\", \"flofa/ptb/19jyb52d\", \"flofa/ptb/2vx2pxq4\"], pareto_front_repr, pareto_mapping, name=\"MaxNet (SuperFed)\")\n",
    "print(maxnet.name)\n",
    "print(maxnet.df[\"round\"].max())"
   ]
  },
  {
   "cell_type": "code",
   "execution_count": 17,
   "id": "2d039a3c",
   "metadata": {},
   "outputs": [
    {
     "name": "stdout",
     "output_type": "stream",
     "text": [
      "0.017952    148.506565\n",
      "0.042576    133.932652\n",
      "0.097440    125.541589\n",
      "0.258000    123.659956\n",
      "Name: iFedAvg, dtype: float64\n",
      "0.017952    0.0\n",
      "0.042576    0.0\n",
      "0.097440    0.0\n",
      "0.258000    0.0\n",
      "Name: iFedAvg, dtype: float64\n",
      "          MaxNet (SuperFed)\n",
      "0.097440         127.280722\n",
      "0.017952         147.854302\n",
      "0.042576         133.576415\n",
      "0.258000         122.676077\n",
      "          MaxNet (SuperFed)\n",
      "0.097440           0.662931\n",
      "0.017952           0.594543\n",
      "0.042576           0.646030\n",
      "0.258000           0.333580\n"
     ]
    },
    {
     "data": {
      "image/png": "[encoded data removed]",
      "text/plain": [
       "<Figure size 432x288 with 1 Axes>"
      ]
     },
     "metadata": {},
     "output_type": "display_data"
    }
   ],
   "source": [
    "matplotlib.style.use(\"seaborn-whitegrid\")\n",
    "markersize_def = 8\n",
    "ws_runs = [maxnet]\n",
    "ax_fill_list = [[\"iFedAvg\", 0.3], \n",
    "                [\"MaxNet (SuperFed)\", 0.4]]\n",
    "markers=['D', 'o']\n",
    "mode=\"avg\"\n",
    "fed_pareto, error_fed_pareto = get_pareto_curves_df(fedavg_runs, \"Test/{model}/PPL\", larger_is_better=False, uptil_round=100, rename=True, axis=0, name=\"iFedAvg\")\n",
    "print(fed_pareto)\n",
    "print(error_fed_pareto)\n",
    "ws_pareto, error_ws_pareto = get_pareto_curves_df(ws_runs,  \"Test/{model}/PPL\", larger_is_better=False, uptil_round=105, rename=True, mode=mode)\n",
    "print(ws_pareto)\n",
    "print(error_ws_pareto)\n",
    "\n",
    "final_df = pd.concat([fed_pareto, ws_pareto], axis=1).loc[subnet_ordering]\n",
    "final_error_df = pd.concat([error_fed_pareto, error_ws_pareto], axis=1).loc[subnet_ordering]\n",
    "#     ax = final_df.plot.line(yerr=final_error_df, marker='o')\n",
    "ax = None\n",
    "for i, (col, ax_fill) in enumerate(zip(final_df.columns, ax_fill_list)):\n",
    "    cur_col = final_df.loc[:, [col]]\n",
    "    cur_col.dropna(inplace=True)\n",
    "    ax = cur_col.plot.line(marker='o' if markers is None else markers[i], ax=ax, markersize=markersize_def)\n",
    "    cur_error_col = final_error_df.loc[:, [col]]\n",
    "    cur_error_col.dropna(inplace=True)\n",
    "    ax.fill_between(cur_col.index, cur_col[ax_fill[0]] - cur_error_col[ax_fill[0]], cur_col[ax_fill[0]] + cur_error_col[ax_fill[0]], alpha=ax_fill[1])\n",
    "\n",
    "#ax = final_df.plot.line(marker='o')\n",
    "#     print(final_df.index)\n",
    "#     print(final_df[\"SuperFed\"] - final_error_df[\"SuperFed\"])\n",
    "#ax.fill_between(final_df.index, final_df[\"iFedAvg\"] - final_error_df[\"iFedAvg\"], final_df[\"iFedAvg\"] + final_error_df[\"iFedAvg\"], alpha=0.3)\n",
    "#ax.fill_between(final_df.index, final_df[\"SuperFed\"] - final_error_df[\"SuperFed\"], final_df[\"SuperFed\"] + final_error_df[\"SuperFed\"], alpha=0.4)\n",
    "for spine in ax.spines.values():\n",
    "        spine.set_edgecolor('black')\n",
    "plt.xlabel(\"GFLOPs\")\n",
    "plt.xlim(0.008,0.27) # have uniform x-axis accross all plots\n",
    "plt.ylim(120,150) # have uniform y-axis accross all plots\n",
    "plt.ylabel(\"Test Perplexity\")\n",
    "plt.tight_layout()\n",
    "plt.legend(loc=1, ncol=1, prop={'size':16})\n",
    "plt.savefig(\"ptb_homogeneous.pdf\")"
   ]
  },
  {
   "cell_type": "code",
   "execution_count": 11,
   "id": "0304682b",
   "metadata": {},
   "outputs": [
    {
     "name": "stdout",
     "output_type": "stream",
     "text": [
      "SuperFedOrig\n",
      "200.0\n",
      "SuperFed0.7\n",
      "200.0\n"
     ]
    }
   ],
   "source": [
    "maxnetOrig = WeightSharedRun([\"flofa/ptb/2iqfdwg6\", \"flofa/ptb/355snv63\", \"flofa/ptb/2j1pwpxf\"], pareto_front_repr, pareto_mapping, name=\"SuperFedOrig\")\n",
    "print(maxnetOrig.name)\n",
    "print(maxnetOrig.df[\"round\"].max())\n",
    "maxnet0_7 = WeightSharedRun([\"flofa/ptb/14g4nl4k\", \"flofa/ptb/1zin8vfv\", \"flofa/ptb/3vyldi04\"], pareto_front_repr, pareto_mapping, name=\"SuperFed0.7\")\n",
    "print(maxnet0_7.name)\n",
    "print(maxnet0_7.df[\"round\"].max())\n"
   ]
  },
  {
   "cell_type": "code",
   "execution_count": 16,
   "id": "9f4fccbe",
   "metadata": {},
   "outputs": [
    {
     "name": "stdout",
     "output_type": "stream",
     "text": [
      "0.017952    148.506565\n",
      "0.042576    133.932652\n",
      "0.097440    125.541589\n",
      "0.258000    123.659956\n",
      "Name: iFedAvg, dtype: float64\n",
      "0.017952    0.0\n",
      "0.042576    0.0\n",
      "0.097440    0.0\n",
      "0.258000    0.0\n",
      "Name: iFedAvg, dtype: float64\n",
      "          MaxNet (SuperFed)  SuperFedOrig  SuperFed0.7\n",
      "0.097440         127.280722    127.541425   127.795855\n",
      "0.017952         147.854302    149.574083   147.917132\n",
      "0.042576         133.576415    134.515679   133.835265\n",
      "0.258000         122.676077    122.537007   123.606231\n",
      "          MaxNet (SuperFed)  SuperFedOrig  SuperFed0.7\n",
      "0.097440           0.662931      0.651447     0.531305\n",
      "0.017952           0.594543      0.575601     0.219757\n",
      "0.042576           0.646030      0.360334     0.614786\n",
      "0.258000           0.333580      0.406571     0.411422\n"
     ]
    },
    {
     "ename": "KeyError",
     "evalue": "'SuperFed'",
     "output_type": "error",
     "traceback": [
      "\u001b[0;31m---------------------------------------------------------------------------\u001b[0m",
      "\u001b[0;31mKeyError\u001b[0m                                  Traceback (most recent call last)",
      "\u001b[0;32m/opt/anaconda3/lib/python3.9/site-packages/pandas/core/indexes/base.py\u001b[0m in \u001b[0;36mget_loc\u001b[0;34m(self, key, method, tolerance)\u001b[0m\n\u001b[1;32m   3360\u001b[0m             \u001b[0;32mtry\u001b[0m\u001b[0;34m:\u001b[0m\u001b[0;34m\u001b[0m\u001b[0;34m\u001b[0m\u001b[0m\n\u001b[0;32m-> 3361\u001b[0;31m                 \u001b[0;32mreturn\u001b[0m \u001b[0mself\u001b[0m\u001b[0;34m.\u001b[0m\u001b[0m_engine\u001b[0m\u001b[0;34m.\u001b[0m\u001b[0mget_loc\u001b[0m\u001b[0;34m(\u001b[0m\u001b[0mcasted_key\u001b[0m\u001b[0;34m)\u001b[0m\u001b[0;34m\u001b[0m\u001b[0;34m\u001b[0m\u001b[0m\n\u001b[0m\u001b[1;32m   3362\u001b[0m             \u001b[0;32mexcept\u001b[0m \u001b[0mKeyError\u001b[0m \u001b[0;32mas\u001b[0m \u001b[0merr\u001b[0m\u001b[0;34m:\u001b[0m\u001b[0;34m\u001b[0m\u001b[0;34m\u001b[0m\u001b[0m\n",
      "\u001b[0;32m/opt/anaconda3/lib/python3.9/site-packages/pandas/_libs/index.pyx\u001b[0m in \u001b[0;36mpandas._libs.index.IndexEngine.get_loc\u001b[0;34m()\u001b[0m\n",
      "\u001b[0;32m/opt/anaconda3/lib/python3.9/site-packages/pandas/_libs/index.pyx\u001b[0m in \u001b[0;36mpandas._libs.index.IndexEngine.get_loc\u001b[0;34m()\u001b[0m\n",
      "\u001b[0;32mpandas/_libs/hashtable_class_helper.pxi\u001b[0m in \u001b[0;36mpandas._libs.hashtable.PyObjectHashTable.get_item\u001b[0;34m()\u001b[0m\n",
      "\u001b[0;32mpandas/_libs/hashtable_class_helper.pxi\u001b[0m in \u001b[0;36mpandas._libs.hashtable.PyObjectHashTable.get_item\u001b[0;34m()\u001b[0m\n",
      "\u001b[0;31mKeyError\u001b[0m: 'SuperFed'",
      "\nThe above exception was the direct cause of the following exception:\n",
      "\u001b[0;31mKeyError\u001b[0m                                  Traceback (most recent call last)",
      "\u001b[0;32m/var/folders/1g/k9xfmv_s29vf0f5bf06smtn00000gn/T/ipykernel_91075/1450458390.py\u001b[0m in \u001b[0;36m<module>\u001b[0;34m\u001b[0m\n\u001b[1;32m     16\u001b[0m \u001b[0;31m#     print(final_df[\"SuperFed\"] - final_error_df[\"SuperFed\"])\u001b[0m\u001b[0;34m\u001b[0m\u001b[0;34m\u001b[0m\u001b[0m\n\u001b[1;32m     17\u001b[0m \u001b[0max\u001b[0m\u001b[0;34m.\u001b[0m\u001b[0mfill_between\u001b[0m\u001b[0;34m(\u001b[0m\u001b[0mfinal_df\u001b[0m\u001b[0;34m.\u001b[0m\u001b[0mindex\u001b[0m\u001b[0;34m,\u001b[0m \u001b[0mfinal_df\u001b[0m\u001b[0;34m[\u001b[0m\u001b[0;34m\"iFedAvg\"\u001b[0m\u001b[0;34m]\u001b[0m \u001b[0;34m-\u001b[0m \u001b[0mfinal_error_df\u001b[0m\u001b[0;34m[\u001b[0m\u001b[0;34m\"iFedAvg\"\u001b[0m\u001b[0;34m]\u001b[0m\u001b[0;34m,\u001b[0m \u001b[0mfinal_df\u001b[0m\u001b[0;34m[\u001b[0m\u001b[0;34m\"iFedAvg\"\u001b[0m\u001b[0;34m]\u001b[0m \u001b[0;34m+\u001b[0m \u001b[0mfinal_error_df\u001b[0m\u001b[0;34m[\u001b[0m\u001b[0;34m\"iFedAvg\"\u001b[0m\u001b[0;34m]\u001b[0m\u001b[0;34m,\u001b[0m \u001b[0malpha\u001b[0m\u001b[0;34m=\u001b[0m\u001b[0;36m0.3\u001b[0m\u001b[0;34m)\u001b[0m\u001b[0;34m\u001b[0m\u001b[0;34m\u001b[0m\u001b[0m\n\u001b[0;32m---> 18\u001b[0;31m \u001b[0max\u001b[0m\u001b[0;34m.\u001b[0m\u001b[0mfill_between\u001b[0m\u001b[0;34m(\u001b[0m\u001b[0mfinal_df\u001b[0m\u001b[0;34m.\u001b[0m\u001b[0mindex\u001b[0m\u001b[0;34m,\u001b[0m \u001b[0mfinal_df\u001b[0m\u001b[0;34m[\u001b[0m\u001b[0;34m\"SuperFed\"\u001b[0m\u001b[0;34m]\u001b[0m \u001b[0;34m-\u001b[0m \u001b[0mfinal_error_df\u001b[0m\u001b[0;34m[\u001b[0m\u001b[0;34m\"SuperFed\"\u001b[0m\u001b[0;34m]\u001b[0m\u001b[0;34m,\u001b[0m \u001b[0mfinal_df\u001b[0m\u001b[0;34m[\u001b[0m\u001b[0;34m\"SuperFed\"\u001b[0m\u001b[0;34m]\u001b[0m \u001b[0;34m+\u001b[0m \u001b[0mfinal_error_df\u001b[0m\u001b[0;34m[\u001b[0m\u001b[0;34m\"SuperFed\"\u001b[0m\u001b[0;34m]\u001b[0m\u001b[0;34m,\u001b[0m \u001b[0malpha\u001b[0m\u001b[0;34m=\u001b[0m\u001b[0;36m0.4\u001b[0m\u001b[0;34m)\u001b[0m\u001b[0;34m\u001b[0m\u001b[0;34m\u001b[0m\u001b[0m\n\u001b[0m\u001b[1;32m     19\u001b[0m \u001b[0;32mfor\u001b[0m \u001b[0mspine\u001b[0m \u001b[0;32min\u001b[0m \u001b[0max\u001b[0m\u001b[0;34m.\u001b[0m\u001b[0mspines\u001b[0m\u001b[0;34m.\u001b[0m\u001b[0mvalues\u001b[0m\u001b[0;34m(\u001b[0m\u001b[0;34m)\u001b[0m\u001b[0;34m:\u001b[0m\u001b[0;34m\u001b[0m\u001b[0;34m\u001b[0m\u001b[0m\n\u001b[1;32m     20\u001b[0m         \u001b[0mspine\u001b[0m\u001b[0;34m.\u001b[0m\u001b[0mset_edgecolor\u001b[0m\u001b[0;34m(\u001b[0m\u001b[0;34m'black'\u001b[0m\u001b[0;34m)\u001b[0m\u001b[0;34m\u001b[0m\u001b[0;34m\u001b[0m\u001b[0m\n",
      "\u001b[0;32m/opt/anaconda3/lib/python3.9/site-packages/pandas/core/frame.py\u001b[0m in \u001b[0;36m__getitem__\u001b[0;34m(self, key)\u001b[0m\n\u001b[1;32m   3456\u001b[0m             \u001b[0;32mif\u001b[0m \u001b[0mself\u001b[0m\u001b[0;34m.\u001b[0m\u001b[0mcolumns\u001b[0m\u001b[0;34m.\u001b[0m\u001b[0mnlevels\u001b[0m \u001b[0;34m>\u001b[0m \u001b[0;36m1\u001b[0m\u001b[0;34m:\u001b[0m\u001b[0;34m\u001b[0m\u001b[0;34m\u001b[0m\u001b[0m\n\u001b[1;32m   3457\u001b[0m                 \u001b[0;32mreturn\u001b[0m \u001b[0mself\u001b[0m\u001b[0;34m.\u001b[0m\u001b[0m_getitem_multilevel\u001b[0m\u001b[0;34m(\u001b[0m\u001b[0mkey\u001b[0m\u001b[0;34m)\u001b[0m\u001b[0;34m\u001b[0m\u001b[0;34m\u001b[0m\u001b[0m\n\u001b[0;32m-> 3458\u001b[0;31m             \u001b[0mindexer\u001b[0m \u001b[0;34m=\u001b[0m \u001b[0mself\u001b[0m\u001b[0;34m.\u001b[0m\u001b[0mcolumns\u001b[0m\u001b[0;34m.\u001b[0m\u001b[0mget_loc\u001b[0m\u001b[0;34m(\u001b[0m\u001b[0mkey\u001b[0m\u001b[0;34m)\u001b[0m\u001b[0;34m\u001b[0m\u001b[0;34m\u001b[0m\u001b[0m\n\u001b[0m\u001b[1;32m   3459\u001b[0m             \u001b[0;32mif\u001b[0m \u001b[0mis_integer\u001b[0m\u001b[0;34m(\u001b[0m\u001b[0mindexer\u001b[0m\u001b[0;34m)\u001b[0m\u001b[0;34m:\u001b[0m\u001b[0;34m\u001b[0m\u001b[0;34m\u001b[0m\u001b[0m\n\u001b[1;32m   3460\u001b[0m                 \u001b[0mindexer\u001b[0m \u001b[0;34m=\u001b[0m \u001b[0;34m[\u001b[0m\u001b[0mindexer\u001b[0m\u001b[0;34m]\u001b[0m\u001b[0;34m\u001b[0m\u001b[0;34m\u001b[0m\u001b[0m\n",
      "\u001b[0;32m/opt/anaconda3/lib/python3.9/site-packages/pandas/core/indexes/base.py\u001b[0m in \u001b[0;36mget_loc\u001b[0;34m(self, key, method, tolerance)\u001b[0m\n\u001b[1;32m   3361\u001b[0m                 \u001b[0;32mreturn\u001b[0m \u001b[0mself\u001b[0m\u001b[0;34m.\u001b[0m\u001b[0m_engine\u001b[0m\u001b[0;34m.\u001b[0m\u001b[0mget_loc\u001b[0m\u001b[0;34m(\u001b[0m\u001b[0mcasted_key\u001b[0m\u001b[0;34m)\u001b[0m\u001b[0;34m\u001b[0m\u001b[0;34m\u001b[0m\u001b[0m\n\u001b[1;32m   3362\u001b[0m             \u001b[0;32mexcept\u001b[0m \u001b[0mKeyError\u001b[0m \u001b[0;32mas\u001b[0m \u001b[0merr\u001b[0m\u001b[0;34m:\u001b[0m\u001b[0;34m\u001b[0m\u001b[0;34m\u001b[0m\u001b[0m\n\u001b[0;32m-> 3363\u001b[0;31m                 \u001b[0;32mraise\u001b[0m \u001b[0mKeyError\u001b[0m\u001b[0;34m(\u001b[0m\u001b[0mkey\u001b[0m\u001b[0;34m)\u001b[0m \u001b[0;32mfrom\u001b[0m \u001b[0merr\u001b[0m\u001b[0;34m\u001b[0m\u001b[0;34m\u001b[0m\u001b[0m\n\u001b[0m\u001b[1;32m   3364\u001b[0m \u001b[0;34m\u001b[0m\u001b[0m\n\u001b[1;32m   3365\u001b[0m         \u001b[0;32mif\u001b[0m \u001b[0mis_scalar\u001b[0m\u001b[0;34m(\u001b[0m\u001b[0mkey\u001b[0m\u001b[0;34m)\u001b[0m \u001b[0;32mand\u001b[0m \u001b[0misna\u001b[0m\u001b[0;34m(\u001b[0m\u001b[0mkey\u001b[0m\u001b[0;34m)\u001b[0m \u001b[0;32mand\u001b[0m \u001b[0;32mnot\u001b[0m \u001b[0mself\u001b[0m\u001b[0;34m.\u001b[0m\u001b[0mhasnans\u001b[0m\u001b[0;34m:\u001b[0m\u001b[0;34m\u001b[0m\u001b[0;34m\u001b[0m\u001b[0m\n",
      "\u001b[0;31mKeyError\u001b[0m: 'SuperFed'"
     ]
    },
    {
     "data": {
      "image/png": "[encoded data removed]",
      "text/plain": [
       "<Figure size 432x288 with 1 Axes>"
      ]
     },
     "metadata": {},
     "output_type": "display_data"
    }
   ],
   "source": [
    "matplotlib.style.use(\"seaborn-whitegrid\")\n",
    "ws_runs = [maxnet, maxnetOrig, maxnet0_7]\n",
    "\n",
    "mode=\"avg\"\n",
    "fed_pareto, error_fed_pareto = get_pareto_curves_df(fedavg_runs, \"Test/{model}/PPL\", larger_is_better=False, uptil_round=100, rename=True, axis=0, name=\"iFedAvg\")\n",
    "print(fed_pareto)\n",
    "print(error_fed_pareto)\n",
    "ws_pareto, error_ws_pareto = get_pareto_curves_df(ws_runs,  \"Test/{model}/PPL\", larger_is_better=False, uptil_round=105, rename=True, mode=mode)\n",
    "print(ws_pareto)\n",
    "print(error_ws_pareto)\n",
    "final_df = pd.concat([fed_pareto, ws_pareto], axis=1).loc[subnet_ordering]\n",
    "final_error_df = pd.concat([error_fed_pareto, error_ws_pareto], axis=1).loc[subnet_ordering]\n",
    "#     ax = final_df.plot.line(yerr=final_error_df, marker='o')\n",
    "ax = final_df.plot.line(marker='o')\n",
    "#     print(final_df.index)\n",
    "#     print(final_df[\"SuperFed\"] - final_error_df[\"SuperFed\"])\n",
    "ax.fill_between(final_df.index, final_df[\"iFedAvg\"] - final_error_df[\"iFedAvg\"], final_df[\"iFedAvg\"] + final_error_df[\"iFedAvg\"], alpha=0.3)\n",
    "ax.fill_between(final_df.index, final_df[\"SuperFed\"] - final_error_df[\"SuperFed\"], final_df[\"SuperFed\"] + final_error_df[\"SuperFed\"], alpha=0.4)\n",
    "for spine in ax.spines.values():\n",
    "        spine.set_edgecolor('black')\n",
    "plt.xlabel(\"GFLOPs\")\n",
    "plt.xlim(0.008,0.27) # have uniform x-axis accross all plots\n",
    "plt.ylim(120,150) # have uniform y-axis accross all plots\n",
    "plt.ylabel(\"Test Perplexity\")\n",
    "plt.tight_layout()\n",
    "plt.legend(loc=1)\n",
    "plt.savefig(\"ptb_homogeneous_test.pdf\")"
   ]
  },
  {
   "cell_type": "code",
   "execution_count": null,
   "id": "406d8304",
   "metadata": {},
   "outputs": [],
   "source": []
  }
 ],
 "metadata": {
  "kernelspec": {
   "display_name": "Python 3 (ipykernel)",
   "language": "python",
   "name": "python3"
  },
  "language_info": {
   "codemirror_mode": {
    "name": "ipython",
    "version": 3
   },
   "file_extension": ".py",
   "mimetype": "text/x-python",
   "name": "python",
   "nbconvert_exporter": "python",
   "pygments_lexer": "ipython3",
   "version": "3.9.7"
  }
 },
 "nbformat": 4,
 "nbformat_minor": 5
}
