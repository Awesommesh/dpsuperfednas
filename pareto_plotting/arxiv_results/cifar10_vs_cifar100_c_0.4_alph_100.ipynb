{
 "cells": [
  {
   "cell_type": "code",
   "execution_count": 2,
   "metadata": {},
   "outputs": [],
   "source": [
    "import sys\n",
    "sys.path.append('../')"
   ]
  },
  {
   "cell_type": "markdown",
   "metadata": {},
   "source": [
    "## Subnetwork FLOPs\n",
    "\n",
    "| Subnet      | FLOPs | Params     |\n",
    "| :---        |    :----:   |          ---: |\n",
    "| largest      | 3405398016.0       | 73755048.0   |\n",
    "| Middle2   |    1645363200.0     |  36428808.0     |\n",
    "| Middle1   |    961167360.0     |  26688568.0     |\n",
    "| Smallest   |   460996608.0    |    12425256.0   |\n",
    "\n",
    "\n",
    "\n",
    "| Subnet      | GFLOPs \n",
    "| :---        |    :----:   | \n",
    "| largest      | 3.41       | \n",
    "| Middle2   |    1.65     | \n",
    "| Middle1   |    0.96     |  \n",
    "| Smallest   |   0.46    |   "
   ]
  },
  {
   "cell_type": "code",
   "execution_count": 38,
   "metadata": {},
   "outputs": [],
   "source": [
    "import matplotlib\n",
    "matplotlib.rcParams['font.family'] = \"Times New Roman\"\n",
    "matplotlib.rcParams['font.size'] = 14"
   ]
  },
  {
   "cell_type": "code",
   "execution_count": 39,
   "metadata": {},
   "outputs": [],
   "source": [
    "from weight_shared_analyzer import WeightSharedRun, plot_pareto_curves_ws, get_pareto_curves_df\n",
    "import matplotlib.pyplot as plt\n",
    "import pandas as pd\n",
    "import matplotlib"
   ]
  },
  {
   "cell_type": "code",
   "execution_count": 4,
   "metadata": {},
   "outputs": [],
   "source": [
    "smallest_subnet = {\"d\":[0,0,0,0], \"e\": 0.1}\n",
    "middle_1_subnet = {\"d\":[0,1,0,1], \"e\": 0.14}\n",
    "middle_2_subnet = {\"d\":[1,1,1,1], \"e\": 0.18}\n",
    "largest_subnet = {\"d\":[2,2,2,2], \"e\": 0.25}\n",
    "pareto_front_repr = [smallest_subnet, middle_1_subnet, middle_2_subnet, largest_subnet]\n",
    "pareto_mapping = {f\"{smallest_subnet}\": 0.46,  f\"{middle_1_subnet}\": 0.96, f\"{middle_2_subnet}\": 1.65, f\"{largest_subnet}\" : 3.41}\n",
    "subnet_ordering = [0.46, 0.96, 1.65, 3.41]"
   ]
  },
  {
   "cell_type": "code",
   "execution_count": 5,
   "metadata": {},
   "outputs": [
    {
     "name": "stdout",
     "output_type": "stream",
     "text": [
      "alph=100-fedavg-smallest-subnet\n",
      "1650.0\n",
      "alph=100-fedavg-small-subnet\n",
      "1750.0\n",
      "alph=100-fedavg-middle-subnet\n",
      "1499.3333333333333\n",
      "alph=100-fedavg-largest-subnet\n",
      "1499.0\n"
     ]
    }
   ],
   "source": [
    "fedavg_smallest = WeightSharedRun([\"flofa/cifar10-cleaned/1dl2fxi9\", \"flofa/cifar10-cleaned/1wh978r3\", \"flofa/cifar10-cleaned/nt133vae\"], pareto_front_repr, pareto_mapping)\n",
    "fedavg_middle_1 = WeightSharedRun([\"flofa/cifar10-cleaned/w2sqaon2\", \"flofa/cifar10-cleaned/1zpyz46a\", \"flofa/cifar10-cleaned/sep9wu4x\"], pareto_front_repr, pareto_mapping)\n",
    "fedavg_middle_2 = WeightSharedRun([\"flofa/cifar10-cleaned/3hh2dhn3\", \"flofa/cifar10-cleaned/1ayzkmjw\", \"flofa/cifar10-cleaned/3kwfm379\"], pareto_front_repr, pareto_mapping)\n",
    "fedavg_largest = WeightSharedRun([\"flofa/cifar10-cleaned/1956egfp\", \"flofa/cifar10-cleaned/3bafwyp3\", \"flofa/cifar10-cleaned/ftc7rokb\"], pareto_front_repr, pareto_mapping)\n",
    "\n",
    "print(fedavg_smallest.name)\n",
    "print(fedavg_smallest.df[\"round\"].max())\n",
    "\n",
    "print(fedavg_middle_1.name)\n",
    "print(fedavg_middle_1.df[\"round\"].max())\n",
    "\n",
    "print(fedavg_middle_2.name)\n",
    "print(fedavg_middle_2.df[\"round\"].max())\n",
    "\n",
    "print(fedavg_largest.name)\n",
    "print(fedavg_largest.df[\"round\"].max())"
   ]
  },
  {
   "cell_type": "code",
   "execution_count": 24,
   "metadata": {},
   "outputs": [
    {
     "name": "stdout",
     "output_type": "stream",
     "text": [
      "SuperFed\n",
      "1650.0\n"
     ]
    }
   ],
   "source": [
    "maxnet = WeightSharedRun([\"flofa/cifar10-cleaned/3vn2tjv1\", \"flofa/cifar10-cleaned/1y1tkuw3\", \"flofa/cifar10-cleaned/1pqzuk1l\"], pareto_front_repr, pareto_mapping, name=\"SuperFed\")\n",
    "print(maxnet.name)\n",
    "print(maxnet.df[\"round\"].max())"
   ]
  },
  {
   "cell_type": "code",
   "execution_count": 61,
   "metadata": {},
   "outputs": [
    {
     "data": {
      "image/png": "[encoded data removed]",
      "text/plain": [
       "<Figure size 432x288 with 1 Axes>"
      ]
     },
     "metadata": {},
     "output_type": "display_data"
    }
   ],
   "source": [
    "matplotlib.style.use(\"seaborn-whitegrid\")\n",
    "fedavg_runs = [fedavg_smallest, fedavg_middle_1, fedavg_middle_2,  fedavg_largest]\n",
    "ws_runs = [maxnet]\n",
    "# ws_runs = [TS]\n",
    "\n",
    "\n",
    "mode=\"avg\"\n",
    "rounds = [1500]\n",
    "for rnum in rounds:\n",
    "    fed_pareto, error_fed_pareto = get_pareto_curves_df(fedavg_runs, \"Test/{model}/Acc\", uptil_round=rnum, rename=True, axis=0, name=\"FedAvg\")\n",
    "    ws_pareto, error_ws_pareto = get_pareto_curves_df(ws_runs,  \"Test/{model}/Acc\", uptil_round=rnum, rename=True, mode=mode)\n",
    "    final_df = pd.concat([fed_pareto, ws_pareto], axis=1).loc[subnet_ordering]\n",
    "    final_error_df = pd.concat([error_fed_pareto, error_ws_pareto], axis=1).loc[subnet_ordering]\n",
    "#     ax = final_df.plot.line(yerr=final_error_df, marker='o')\n",
    "    ax = final_df.plot.line(marker='o')\n",
    "#     print(final_df.index)\n",
    "#     print(final_df[\"SuperFed\"] - final_error_df[\"SuperFed\"])\n",
    "    ax.fill_between(final_df.index, final_df[\"FedAvg\"] - final_error_df[\"FedAvg\"], final_df[\"FedAvg\"] + final_error_df[\"FedAvg\"], alpha=0.3)\n",
    "    ax.fill_between(final_df.index, final_df[\"SuperFed\"] - final_error_df[\"SuperFed\"], final_df[\"SuperFed\"] + final_error_df[\"SuperFed\"], alpha=0.4)\n",
    "    plt.xlabel(\"GFLOPs\")\n",
    "    plt.xlim(0.3,3.5) # have uniform x-axis accross all plots\n",
    "    plt.ylim(0.82,0.92) # have uniform y-axis accross all plots\n",
    "    plt.ylabel(\"Test Accuracy\")\n",
    "    plt.tight_layout()\n",
    "    plt.legend(loc=4)\n",
    "    plt.savefig(\"cifar10_alph100.pdf\")"
   ]
  }
 ],
 "metadata": {
  "kernelspec": {
   "display_name": "Python 3",
   "language": "python",
   "name": "python3"
  },
  "language_info": {
   "codemirror_mode": {
    "name": "ipython",
    "version": 3
   },
   "file_extension": ".py",
   "mimetype": "text/x-python",
   "name": "python",
   "nbconvert_exporter": "python",
   "pygments_lexer": "ipython3",
   "version": "3.7.9"
  }
 },
 "nbformat": 4,
 "nbformat_minor": 4
}
