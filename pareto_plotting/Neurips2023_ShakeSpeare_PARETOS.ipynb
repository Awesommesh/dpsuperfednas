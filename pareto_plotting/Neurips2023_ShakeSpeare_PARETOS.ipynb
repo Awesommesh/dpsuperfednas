{
 "cells": [
  {
   "cell_type": "code",
   "execution_count": 32,
   "id": "751f8def",
   "metadata": {},
   "outputs": [],
   "source": [
    "import csv\n",
    "import matplotlib\n",
    "#matplotlib.rcParams['font.family'] = \"Times New Roman\"\n",
    "import seaborn as sns\n",
    "sns.set_style(\"whitegrid\")\n",
    "def_font_size = 20\n",
    "\n",
    "#matplotlib.rcParams['font.size'] = def_font_size=16\n",
    "import matplotlib\n",
    "import matplotlib.pyplot as plt\n",
    "matplotlib.rcParams[\"font.family\"] = \"Times New Roman\"\n",
    "matplotlib.rcParams[\"font.size\"] = 16\n",
    "matplotlib.rcParams[\"pdf.fonttype\"] = 42\n",
    "matplotlib.rcParams[\"ps.fonttype\"] = 42\n",
    "matplotlib.rcParams[\"axes.grid\"] = True\n",
    "matplotlib.rcParams[\"lines.linewidth\"] = 4\n",
    "matplotlib.rcParams[\"lines.markersize\"] = 12\n",
    "matplotlib.rcParams[\"xtick.labelsize\"] = 24\n",
    "matplotlib.rcParams[\"ytick.labelsize\"] = 24\n",
    "\n",
    "\n",
    "\n",
    "matplotlib.rc(\"axes\", **{\"labelsize\": 28, \"titlesize\": \"large\"})\n",
    "matplotlib.rc(\"legend\", **{\"fontsize\": \"medium\"})\n",
    "matplotlib.rcParams[\"figure.figsize\"] = (8, 5)"
   ]
  },
  {
   "cell_type": "code",
   "execution_count": 33,
   "id": "553a586a",
   "metadata": {},
   "outputs": [],
   "source": [
    "from weight_shared_analyzer import WeightSharedRun, plot_pareto_curves_ws, get_pareto_curves_df\n",
    "import matplotlib.pyplot as plt\n",
    "import pandas as pd\n",
    "import numpy as np"
   ]
  },
  {
   "cell_type": "code",
   "execution_count": 34,
   "id": "77732743",
   "metadata": {},
   "outputs": [],
   "source": [
    "smallest_subnet = {\"d\":0, \"e\": 0.2}\n",
    "small_subnet = {\"d\":1, \"e\": 0.2}\n",
    "middle_subnet = {\"d\":1, \"e\": 0.5}\n",
    "large_subnet = {\"d\":1, \"e\": 1.0}\n",
    "largest_subnet = {\"d\":2, \"e\": 1.0}\n",
    "pareto_front_repr = [smallest_subnet, small_subnet, middle_subnet, large_subnet, largest_subnet]\n",
    "pareto_mapping = {f\"{smallest_subnet}\": 0.316,  f\"{small_subnet}\": 0.560, f\"{middle_subnet}\": 1.290, f\"{large_subnet}\" : 2.506, f\"{largest_subnet}\" : 3.722}\n",
    "subnet_ordering = [0.316, 0.560, 1.290, 2.506, 3.722]"
   ]
  },
  {
   "cell_type": "code",
   "execution_count": 35,
   "id": "3162a736",
   "metadata": {},
   "outputs": [],
   "source": [
    "def max_per_seed(seeds, uptil_r, mode=\"avg\", fedavg=True):\n",
    "    best_accs = []\n",
    "    for s in seeds:\n",
    "        cur_s = WeightSharedRun(s, pareto_front_repr, pareto_mapping)\n",
    "        if fedavg:\n",
    "            cur_best_acc, _ = get_pareto_curves_df([cur_s], \"Test/{model}/Acc\", larger_is_better=True, uptil_round=uptil_r, axis=0)\n",
    "            best_accs.append(cur_best_acc[0])\n",
    "            #print(\"curbestacc: \", cur_best_acc, type(cur_best_acc), cur_best_acc[0])\n",
    "        else:\n",
    "            cur_best_acc, _ = get_pareto_curves_df([cur_s], \"Test/{model}/Acc\", larger_is_better=Ture, uptil_round=uptil_r, rename=True, mode=mode)\n",
    "            cur_list = []\n",
    "            for order in subnet_ordering:\n",
    "                cur_list.append(cur_best_acc.at[order, cur_best_acc.columns[0]])\n",
    "                #print(\"curbestacc: \", order, cur_best_acc.at[order, cur_best_acc.columns[0]], type(cur_best_acc.at[order, cur_best_acc.columns[0]]))\n",
    "            best_accs.append(cur_list)\n",
    "    return best_accs"
   ]
  },
  {
   "cell_type": "code",
   "execution_count": 36,
   "id": "1bf07263",
   "metadata": {},
   "outputs": [],
   "source": [
    "def fedavgCurves_dep(smallest, small, middle, large, largest):\n",
    "    fedavg_smallest = WeightSharedRun(smallest, pareto_front_repr, pareto_mapping)\n",
    "    fedavg_small = WeightSharedRun(small, pareto_front_repr, pareto_mapping)\n",
    "    fedavg_middle = WeightSharedRun(middle, pareto_front_repr, pareto_mapping)\n",
    "    fedavg_large = WeightSharedRun(large, pareto_front_repr, pareto_mapping)\n",
    "    fedavg_largest = WeightSharedRun(largest, pareto_front_repr, pareto_mapping)\n",
    "\n",
    "    print(fedavg_smallest.name)\n",
    "    print(fedavg_smallest.df[\"round\"].max())\n",
    "\n",
    "    print(fedavg_small.name)\n",
    "    print(fedavg_small.df[\"round\"].max())\n",
    "\n",
    "    print(fedavg_middle.name)\n",
    "    print(fedavg_middle.df[\"round\"].max())\n",
    "    \n",
    "    print(fedavg_large.name)\n",
    "    print(fedavg_large.df[\"round\"].max())\n",
    "\n",
    "    print(fedavg_largest.name)\n",
    "    print(fedavg_largest.df[\"round\"].max())\n",
    "    return [fedavg_smallest, fedavg_small, fedavg_middle, fedavg_large, fedavg_largest]\n",
    "\n",
    "def fedavgCurves(smallest, small, middle, large, largest, uptil_r=1500):\n",
    "    smallest = max_per_seed(smallest, uptil_r)\n",
    "    small = max_per_seed(small, uptil_r)\n",
    "    middle = max_per_seed(middle, uptil_r)\n",
    "    large = max_per_seed(large, uptil_r)\n",
    "    largest = max_per_seed(largest, uptil_r)\n",
    "    return [smallest, small, middle, large, largest]"
   ]
  },
  {
   "cell_type": "code",
   "execution_count": 37,
   "id": "8cdd19c4",
   "metadata": {},
   "outputs": [],
   "source": [
    "def fed_paretos_internal(fedavg_runs, name=\"iFedAvg\"):\n",
    "    avg_acc = []\n",
    "    std_acc = []\n",
    "    for run in fedavg_runs:\n",
    "        avg_acc.append(np.mean(run))\n",
    "        std_acc.append(np.std(run))\n",
    "    fed_pareto = pd.Series(data=avg_acc, index=subnet_ordering, name=name)\n",
    "    error_fed_pareto = pd.Series(data=std_acc, index=subnet_ordering, name=name)\n",
    "    return fed_pareto, error_fed_pareto\n",
    "\n",
    "def ws_paretos_internal(seeds, rnum, name=\"SuperFed\", mode=\"avg\"):\n",
    "    print(f\"{name} pareto generation running...\")\n",
    "    ws = max_per_seed(seeds, rnum, mode=mode, fedavg=False)\n",
    "    avg_acc = np.mean(ws, axis=0)\n",
    "    std_acc = np.std(ws, axis=0)\n",
    "    ws_pareto = pd.Series(data=avg_acc, index=subnet_ordering, name=name)\n",
    "    error_ws_pareto = pd.Series(data=std_acc, index=subnet_ordering, name=name)\n",
    "    return ws_pareto, error_ws_pareto\n",
    "\n",
    "def fed_paretos(smallest, small, middle, large, largest, uptil_r=1500, name=\"iFedAvg\"):\n",
    "    print(\"fed pareto generation running...\")\n",
    "    return fed_paretos_internal(fedavgCurves(smallest, small, middle, large, largest, uptil_r), name)\n",
    "\n",
    "def ws_paretos(ws_runs, rnum, names, mode=\"avg\", modify_names=None):\n",
    "    ws_concat_list = []\n",
    "    error_ws_concat_list = []\n",
    "    for ws_run, name in zip(ws_runs, names):\n",
    "        cur_pareto, cur_error_pareto = ws_paretos_internal(ws_run, rnum, name=name, mode=mode)\n",
    "        if modify_names is not None and name in modify_names.keys():\n",
    "            with open(modify_names[name], newline='') as csvfile:\n",
    "                csvReader = csv.reader(csvfile, delimiter=' ')\n",
    "                for row in csvReader:\n",
    "                    cur_pareto[float(row[0])] = float(row[1])\n",
    "                    cur_error_pareto[float(row[0])] = float(row[2])\n",
    "            cur_pareto.sort_index(inplace=True)\n",
    "            cur_error_pareto.sort_index(inplace=True)\n",
    "        ws_concat_list.append(cur_pareto)\n",
    "        error_ws_concat_list.append(cur_error_pareto)\n",
    "    return pd.concat(ws_concat_list, axis=1), pd.concat(error_ws_concat_list, axis=1)"
   ]
  },
  {
   "cell_type": "code",
   "execution_count": 38,
   "id": "9593282c",
   "metadata": {},
   "outputs": [],
   "source": [
    "markersize_def = 8\n",
    "def adv_plot(fed_pareto, error_fed_pareto, ws_pareto, error_ws_pareto, ax_fill_list, ylim_1, ylim_2, \n",
    "             rnum, save_name, xlim_1=0.3, xlim_2=3.5, mode=\"avg\", exclude_fedavg=False, colors=None,\n",
    "            leg_font_size=def_font_size, ncol=1, leg_ordering=None, markers=None):\n",
    "    #matplotlib.style.use(\"seaborn-whitegrid\")\n",
    "    if not exclude_fedavg:\n",
    "        final_df = pd.concat([fed_pareto, ws_pareto], axis=1)\n",
    "        final_error_df = pd.concat([error_fed_pareto, error_ws_pareto], axis=1)\n",
    "    else:\n",
    "        final_df = pd.concat([ws_pareto], axis=1)\n",
    "        final_error_df = pd.concat([error_ws_pareto], axis=1)\n",
    "    if colors is not None:\n",
    "        ax = None\n",
    "        for i, (col, ax_fill, color) in enumerate(zip(final_df.columns, ax_fill_list, colors)):\n",
    "            cur_col = final_df.loc[:, [col]]\n",
    "            cur_col.dropna(inplace=True)\n",
    "            ax = cur_col.plot.line(marker='o' if markers is None else markers[i], color=color, ax=ax, markersize=markersize_def)\n",
    "            cur_error_col = final_error_df.loc[:, [col]]\n",
    "            cur_error_col.dropna(inplace=True)\n",
    "            ax.fill_between(cur_col.index, cur_col[ax_fill[0]] - cur_error_col[ax_fill[0]], cur_col[ax_fill[0]] + cur_error_col[ax_fill[0]], alpha=ax_fill[1], color=color)\n",
    "    else:\n",
    "        ax = None\n",
    "        for i, (col, ax_fill) in enumerate(zip(final_df.columns, ax_fill_list)):\n",
    "            cur_col = final_df.loc[:, [col]]\n",
    "            cur_col.dropna(inplace=True)\n",
    "            ax = cur_col.plot.line(marker='o' if markers is None else markers[i], ax=ax, markersize=markersize_def)\n",
    "            cur_error_col = final_error_df.loc[:, [col]]\n",
    "            cur_error_col.dropna(inplace=True)\n",
    "            ax.fill_between(cur_col.index, cur_col[ax_fill[0]] - cur_error_col[ax_fill[0]], cur_col[ax_fill[0]] + cur_error_col[ax_fill[0]], alpha=ax_fill[1])\n",
    "    for spine in ax.spines.values():\n",
    "        spine.set_edgecolor('black')\n",
    "    plt.xlabel(\"MFLOPs\")\n",
    "    plt.xlim(xlim_1,xlim_2) # have uniform x-axis accross all plots\n",
    "    plt.ylim(ylim_1,ylim_2) # have uniform y-axis accross all plots\n",
    "    plt.ylabel(\"Test Accuracy\")\n",
    "    plt.tight_layout()\n",
    "    if leg_ordering is not None:\n",
    "        handles, labels = plt.gca().get_legend_handles_labels()\n",
    "        plt.legend([handles[idx] for idx in leg_ordering],[labels[idx] for idx in leg_ordering], loc=4, ncol=ncol, prop={'size':leg_font_size})\n",
    "    else:\n",
    "        plt.legend(loc=4, ncol=ncol, prop={'size':leg_font_size})\n",
    "    plt.savefig(save_name)\n",
    "    #return final_df, final_error_df"
   ]
  },
  {
   "cell_type": "code",
   "execution_count": 39,
   "id": "dc3de43d",
   "metadata": {},
   "outputs": [
    {
     "name": "stdout",
     "output_type": "stream",
     "text": [
      "seed0-maxnorm0.05-FedAvg-smallest-subnet\n",
      "399.0\n",
      "seed0-maxnorm0.05-FedAvg-small-subnet\n",
      "399.0\n",
      "seed0-maxnorm0.05-FedAvg-middle-subnet\n",
      "399.0\n",
      "seed0-maxnorm0.05-FedAvg-large-subnet\n",
      "399.0\n",
      "maxnorm0.05-data-weighted-FedAvg-largest-subnet\n",
      "99.0\n"
     ]
    }
   ],
   "source": [
    "fedavg_runs = fedavgCurves_dep([\"flofa/shakespeare/tfq22kct\", \"flofa/shakespeare/3eul3s3y\", \"flofa/shakespeare/6y7v2a3t\"],\n",
    "                           [\"flofa/shakespeare/2emdqbk1\", \"flofa/shakespeare/kk1ub84l\", \"flofa/shakespeare/1clwcdma\"],\n",
    "                           [\"flofa/shakespeare/3q47rpa0\", \"flofa/shakespeare/12i1f6ya\", \"flofa/shakespeare/3jfpc3cj\"],\n",
    "                           [\"flofa/shakespeare/37uzte9d\", \"flofa/shakespeare/2l7jjhjz\", \"flofa/shakespeare/3d7gbgb3\"],\n",
    "                           [\"flofa/shakespeare/2ftyc8wm\", \"flofa/shakespeare/1ncoq6gb\", \"flofa/shakespeare/3e9ldt9s\"],\n",
    "                          )"
   ]
  },
  {
   "cell_type": "code",
   "execution_count": 40,
   "id": "a1aedc8e",
   "metadata": {},
   "outputs": [
    {
     "name": "stdout",
     "output_type": "stream",
     "text": [
      "MaxNet (FedOdin)\n",
      "399.0\n"
     ]
    }
   ],
   "source": [
    "maxnet = WeightSharedRun([\"flofa/shakespeare/2wjhj08b\", \"flofa/shakespeare/1vqds6m3\", \"flofa/shakespeare/2dyb6ol3\"], pareto_front_repr, pareto_mapping, name=\"MaxNet (FedOdin)\")\n",
    "print(maxnet.name)\n",
    "print(maxnet.df[\"round\"].max())"
   ]
  },
  {
   "cell_type": "code",
   "execution_count": 41,
   "id": "2d039a3c",
   "metadata": {},
   "outputs": [
    {
     "name": "stdout",
     "output_type": "stream",
     "text": [
      "0.316    0.485163\n",
      "0.560    0.491712\n",
      "1.290    0.519444\n",
      "2.506    0.534783\n",
      "3.722    0.536239\n",
      "Name: iFedAvg, dtype: float64\n",
      "0.316    0.001147\n",
      "0.560    0.000204\n",
      "1.290    0.000311\n",
      "2.506    0.000940\n",
      "3.722    0.000997\n",
      "Name: iFedAvg, dtype: float64\n",
      "Index(['MaxNet (FedOdin)'], dtype='object')\n",
      "       MaxNet (FedOdin)\n",
      "1.290          0.000564\n",
      "3.722          0.001285\n",
      "0.316          0.002749\n",
      "0.560          0.001569\n",
      "2.506          0.001463\n",
      "        iFedAvg  MaxNet (FedOdin)\n",
      "0.316  0.485163          0.482193\n",
      "0.560  0.491712          0.498109\n",
      "1.290  0.519444          0.532617\n",
      "2.506  0.534783          0.545947\n",
      "3.722  0.536239          0.546125\n",
      "        iFedAvg  MaxNet (FedOdin)\n",
      "0.316  0.485163          0.482193\n",
      "0.560  0.491712          0.498109\n",
      "1.290  0.519444          0.532617\n",
      "2.506  0.534783          0.545947\n",
      "3.722  0.536239          0.546125\n"
     ]
    },
    {
     "name": "stderr",
     "output_type": "stream",
     "text": [
      "/tmp/ipykernel_2725189/2971719781.py:1: MatplotlibDeprecationWarning: The seaborn styles shipped by Matplotlib are deprecated since 3.6, as they no longer correspond to the styles shipped by seaborn. However, they will remain available as 'seaborn-v0_8-<style>'. Alternatively, directly use the seaborn API instead.\n",
      "  matplotlib.style.use(\"seaborn-whitegrid\")\n"
     ]
    },
    {
     "data": {
      "image/png": "[encoded data removed]",
      "text/plain": [
       "<Figure size 800x500 with 1 Axes>"
      ]
     },
     "metadata": {},
     "output_type": "display_data"
    }
   ],
   "source": [
    "matplotlib.style.use(\"seaborn-whitegrid\")\n",
    "markersize_def = 8\n",
    "ws_runs = [maxnet]\n",
    "ax_fill_list = [[\"iFedAvg\", 0.3], \n",
    "                [\"MaxNet (FedOdin)\", 0.4]]\n",
    "markers=['D', 'o']\n",
    "mode=\"avg\"\n",
    "fed_pareto, error_fed_pareto = get_pareto_curves_df(fedavg_runs, \"Test/{model}/Acc\", larger_is_better=True, uptil_round=100, rename=True, axis=0, name=\"iFedAvg\")\n",
    "print(fed_pareto)\n",
    "print(error_fed_pareto)\n",
    "ws_pareto, error_ws_pareto = get_pareto_curves_df(ws_runs,  \"Test/{model}/Acc\", larger_is_better=True, uptil_round=400, rename=True, mode=mode)\n",
    "print(ws_pareto.keys())\n",
    "print(error_ws_pareto)\n",
    "final_df = pd.concat([fed_pareto, ws_pareto], axis=1).loc[subnet_ordering]\n",
    "final_error_df = pd.concat([error_fed_pareto, error_ws_pareto], axis=1).loc[subnet_ordering]\n",
    "#     ax = final_df.plot.line(yerr=final_error_df, marker='o')\n",
    "print(final_df)\n",
    "\n",
    "\n",
    "'''final_df['iFedAvg'] *= 100\n",
    "final_df['MaxNet (FedOdin)'] *= 100\n",
    "final_error_df['iFedAvg'] *= 100\n",
    "final_error_df['MaxNet (FedOdin)'] *= 100'''\n",
    "print(final_df)\n",
    "ax = None\n",
    "for i, (col, ax_fill) in enumerate(zip(final_df.columns, ax_fill_list)):\n",
    "    cur_col = final_df.loc[:, [col]]\n",
    "    cur_col.dropna(inplace=True)\n",
    "    ax = cur_col.plot.line(marker='o' if markers is None else markers[i], ax=ax, markersize=markersize_def)\n",
    "    cur_error_col = final_error_df.loc[:, [col]]\n",
    "    cur_error_col.dropna(inplace=True)\n",
    "    ax.fill_between(cur_col.index, cur_col[ax_fill[0]] - cur_error_col[ax_fill[0]], cur_col[ax_fill[0]] + cur_error_col[ax_fill[0]], alpha=ax_fill[1])\n",
    "\n",
    "#ax = final_df.plot.line(marker='o')\n",
    "#     print(final_df.index)\n",
    "#     print(final_df[\"SuperFed\"] - final_error_df[\"SuperFed\"])\n",
    "#ax.fill_between(final_df.index, final_df[\"iFedAvg\"] - final_error_df[\"iFedAvg\"], final_df[\"iFedAvg\"] + final_error_df[\"iFedAvg\"], alpha=0.3)\n",
    "#ax.fill_between(final_df.index, final_df[\"SuperFed\"] - final_error_df[\"SuperFed\"], final_df[\"SuperFed\"] + final_error_df[\"SuperFed\"], alpha=0.4)\n",
    "for spine in ax.spines.values():\n",
    "        spine.set_edgecolor('black')\n",
    "plt.xlabel(\"MFLOPs\")\n",
    "plt.xlim(0.05,4) # have uniform x-axis accross all plots\n",
    "plt.ylim(0.451,0.60) # have uniform y-axis accross all plots\n",
    "plt.ylabel(\"Test Accuracy\")\n",
    "plt.tight_layout()\n",
    "plt.legend(loc=1, ncol=1, prop={'size':20})\n",
    "plt.savefig(\"shakespeare.pdf\")"
   ]
  },
  {
   "cell_type": "code",
   "execution_count": 42,
   "id": "575399f7",
   "metadata": {},
   "outputs": [
    {
     "name": "stdout",
     "output_type": "stream",
     "text": [
      "       MaxNet (FedOdin)\n",
      "1.290          0.532617\n",
      "3.722          0.546125\n",
      "0.316          0.482193\n",
      "0.560          0.498109\n",
      "2.506          0.545947 \n",
      "        MaxNet (FedOdin)\n",
      "1.290          0.000564\n",
      "3.722          0.001285\n",
      "0.316          0.002749\n",
      "0.560          0.001569\n",
      "2.506          0.001463\n"
     ]
    }
   ],
   "source": [
    "print(ws_pareto, \"\\n\", error_ws_pareto)"
   ]
  },
  {
   "cell_type": "code",
   "execution_count": 43,
   "id": "69ff046a",
   "metadata": {},
   "outputs": [
    {
     "name": "stdout",
     "output_type": "stream",
     "text": [
      "0.316    0.485163\n",
      "0.560    0.491712\n",
      "1.290    0.519444\n",
      "2.506    0.534783\n",
      "3.722    0.536239\n",
      "Name: iFedAvg, dtype: float64 \n",
      " 0.316    0.001147\n",
      "0.560    0.000204\n",
      "1.290    0.000311\n",
      "2.506    0.000940\n",
      "3.722    0.000997\n",
      "Name: iFedAvg, dtype: float64\n"
     ]
    }
   ],
   "source": [
    "print(fed_pareto, \"\\n\", error_fed_pareto)"
   ]
  },
  {
   "cell_type": "code",
   "execution_count": null,
   "id": "52b9a3c8",
   "metadata": {},
   "outputs": [],
   "source": []
  }
 ],
 "metadata": {
  "kernelspec": {
   "display_name": "Python 3 (ipykernel)",
   "language": "python",
   "name": "python3"
  },
  "language_info": {
   "codemirror_mode": {
    "name": "ipython",
    "version": 3
   },
   "file_extension": ".py",
   "mimetype": "text/x-python",
   "name": "python",
   "nbconvert_exporter": "python",
   "pygments_lexer": "ipython3",
   "version": "3.9.5"
  }
 },
 "nbformat": 4,
 "nbformat_minor": 5
}
