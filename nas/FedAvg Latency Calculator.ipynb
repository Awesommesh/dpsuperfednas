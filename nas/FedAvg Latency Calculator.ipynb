{
 "cells": [
  {
   "cell_type": "code",
   "execution_count": 1,
   "id": "59a3c0e0-3df8-45bb-b12c-73f34c17cd0b",
   "metadata": {},
   "outputs": [
    {
     "name": "stderr",
     "output_type": "stream",
     "text": [
      "INFO:root:*********partition data***************\n"
     ]
    },
    {
     "name": "stdout",
     "output_type": "stream",
     "text": [
      "download = True\n",
      "Files already downloaded and verified\n",
      "download = True\n",
      "Files already downloaded and verified\n"
     ]
    },
    {
     "name": "stderr",
     "output_type": "stream",
     "text": [
      "INFO:root:N = 50000\n",
      "INFO:root:traindata_cls_counts = {0: {0: 5000, 1: 5000, 2: 5000, 3: 5000, 4: 5000, 5: 5000, 6: 5000, 7: 5000, 8: 5000, 9: 5000}}\n"
     ]
    },
    {
     "name": "stdout",
     "output_type": "stream",
     "text": [
      "download = True\n",
      "Files already downloaded and verified\n",
      "download = True\n",
      "Files already downloaded and verified\n"
     ]
    },
    {
     "name": "stderr",
     "output_type": "stream",
     "text": [
      "INFO:root:train_dl_global number = 782\n",
      "INFO:root:test_dl_global number = 157\n",
      "INFO:root:client_idx = 0, local_sample_number = 50000\n"
     ]
    },
    {
     "name": "stdout",
     "output_type": "stream",
     "text": [
      "download = True\n",
      "Files already downloaded and verified\n",
      "download = True\n",
      "Files already downloaded and verified\n"
     ]
    },
    {
     "name": "stderr",
     "output_type": "stream",
     "text": [
      "INFO:root:client_idx = 0, batch_num_train_local = 782, batch_num_test_local = 157\n"
     ]
    }
   ],
   "source": [
    "import time\n",
    "import torch\n",
    "import random\n",
    "import argparse\n",
    "\n",
    "import numpy as np\n",
    "import pandas as pd\n",
    "\n",
    "from load_model import load_model\n",
    "from evaluate import evaluate\n",
    "from load_data import dataset"
   ]
  },
  {
   "cell_type": "code",
   "execution_count": 2,
   "id": "c46ef4bb-039b-4d23-bcec-afb25cd85b52",
   "metadata": {},
   "outputs": [
    {
     "name": "stdout",
     "output_type": "stream",
     "text": [
      "Successfully imported all packages and configured random seed to 3!\n"
     ]
    }
   ],
   "source": [
    "CKPT_PATH = '/nethome/sannavajjala6/projects/wsn/superfed_ckpt.pt'\n",
    "\n",
    "batch_size = 64\n",
    "\n",
    "# Setting random seed\n",
    "random_seed = 3\n",
    "random.seed(random_seed)\n",
    "np.random.seed(random_seed)\n",
    "torch.manual_seed(random_seed)\n",
    "print('Successfully imported all packages and configured random seed to %d!' % random_seed)\n",
    "\n",
    "def cuda_time() -> float:\n",
    "    torch.cuda.synchronize()\n",
    "    return time.perf_counter()\n",
    "\n",
    "torch.backends.cudnn.enabled = True\n",
    "torch.backends.cudnn.benchmark = True\n",
    "torch.cuda.manual_seed(random_seed)"
   ]
  },
  {
   "cell_type": "code",
   "execution_count": 3,
   "id": "045b9b26-a54a-4691-b25f-03646b22116a",
   "metadata": {},
   "outputs": [],
   "source": [
    "model = load_model(CKPT_PATH, dataset)\n",
    "\n",
    "target_hardware = 'gpu'\n",
    "cuda_available = False\n",
    "device = None\n",
    "\n",
    "if target_hardware == 'cpu':\n",
    "    device = 'cpu'\n",
    "    cuda_available = True\n",
    "else:\n",
    "    device = 'cuda:0'\n",
    "    cuda_available = False"
   ]
  },
  {
   "cell_type": "code",
   "execution_count": 6,
   "id": "3d20bc94-f636-4e05-bb32-abeadbf198e5",
   "metadata": {},
   "outputs": [],
   "source": [
    "configs = {}\n",
    "configs[\"smallest\"] = {'d':[0,0,0,0], 'e':0.1}\n",
    "configs[\"small\"] = {\"d\":[0,1,0,1], \"e\":0.14}\n",
    "configs[\"middle\"] = {\"d\":[1,1,1,1], \"e\":0.18}\n",
    "configs[\"large\"] = {\"d\":[1,2,1,2], \"e\":0.22}\n",
    "configs[\"largest\"] = {\"d\":[2,2,2,2], \"e\":0.25}"
   ]
  },
  {
   "cell_type": "code",
   "execution_count": null,
   "id": "683eebbb-3a3b-4d05-96b5-b8ca6def230b",
   "metadata": {},
   "outputs": [],
   "source": [
    "for c in configs.values():\n",
    "    model.model.set_active_subnet(**c)\n",
    "    acc, lat = evaluate(model.model, dataset, device)\n",
    "    print(c, acc, lat)"
   ]
  },
  {
   "cell_type": "code",
   "execution_count": null,
   "id": "16692d3b-f662-475c-9ff0-fda2fb1e13a7",
   "metadata": {},
   "outputs": [],
   "source": []
  }
 ],
 "metadata": {
  "kernelspec": {
   "display_name": "Python 3 (ipykernel)",
   "language": "python",
   "name": "python3"
  },
  "language_info": {
   "codemirror_mode": {
    "name": "ipython",
    "version": 3
   },
   "file_extension": ".py",
   "mimetype": "text/x-python",
   "name": "python",
   "nbconvert_exporter": "python",
   "pygments_lexer": "ipython3",
   "version": "3.9.5"
  }
 },
 "nbformat": 4,
 "nbformat_minor": 5
}
